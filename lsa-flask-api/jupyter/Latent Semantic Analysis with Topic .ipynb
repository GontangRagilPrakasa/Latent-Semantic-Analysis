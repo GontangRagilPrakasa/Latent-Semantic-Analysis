{
 "cells": [
  {
   "cell_type": "code",
   "execution_count": 9,
   "metadata": {
    "collapsed": true
   },
   "outputs": [],
   "source": [
    "import pandas as pd\n",
    "setD = pd.read_excel('preprocessed-dataset.xlsx',sep=',')\n",
    "#print(setD)\n",
    "#Doc = setD['preprocessed_judul'].astype('str')\n",
    "Doc = pd.read_csv(\"test.csv\", sep=',')\n",
    "Doc = Doc.stemming_judul\n",
    "#print(Doc)\n",
    "# kunci = pd.read_excel('query.xlsx',sep=',')\n",
    "# query = kunci['judul'].astype('str')\n",
    "query = ['analysis training parameters classifiers based haarlike features detect human fac']"
   ]
  },
  {
   "cell_type": "code",
   "execution_count": 10,
   "metadata": {},
   "outputs": [
    {
     "data": {
      "text/plain": [
       "(4, 16)"
      ]
     },
     "execution_count": 10,
     "metadata": {},
     "output_type": "execute_result"
    }
   ],
   "source": [
    "# Kita mulai dengan membuat VSM-nya\n",
    "# kita gunakan perintah yang ada di Segmen sebelumnya \n",
    "from sklearn.feature_extraction.text import CountVectorizer\n",
    "tf_vectorizer = CountVectorizer()\n",
    "\n",
    "tf = tf_vectorizer.fit_transform(Doc)\n",
    "tf_terms = tf_vectorizer.get_feature_names()\n",
    "# Mengapa tf bukan tfidf?\n",
    "# Blei, D. M., Ng, A. Y., & Jordan, M. I. (2003). Latent dirichlet allocation. Journal of machine Learning research, 3(Jan), 993-1022.\n",
    "# Saran: untuk penelitian VS di Industri.\n",
    "tf.shape"
   ]
  },
  {
   "cell_type": "code",
   "execution_count": 11,
   "metadata": {},
   "outputs": [
    {
     "data": {
      "text/plain": [
       "TruncatedSVD(algorithm='randomized', n_components=4, n_iter=10,\n",
       "       random_state=None, tol=0.0)"
      ]
     },
     "execution_count": 11,
     "metadata": {},
     "output_type": "execute_result"
    }
   ],
   "source": [
    "from sklearn.decomposition import TruncatedSVD\n",
    "n_topics = 4\n",
    "lsa = TruncatedSVD(n_components=n_topics,algorithm='randomized',n_iter=10).fit(tf)\n",
    "lsa"
   ]
  },
  {
   "cell_type": "code",
   "execution_count": 30,
   "metadata": {},
   "outputs": [
    {
     "data": {
      "text/plain": [
       "LatentDirichletAllocation(batch_size=128, doc_topic_prior=None,\n",
       "             evaluate_every=-1, learning_decay=0.7,\n",
       "             learning_method='batch', learning_offset=10.0,\n",
       "             max_doc_update_iter=100, max_iter=10, mean_change_tol=0.001,\n",
       "             n_components=4, n_jobs=1, n_topics=None, perp_tol=0.1,\n",
       "             random_state=0, topic_word_prior=None,\n",
       "             total_samples=1000000.0, verbose=0)"
      ]
     },
     "execution_count": 30,
     "metadata": {},
     "output_type": "execute_result"
    }
   ],
   "source": [
    "from sklearn.decomposition import LatentDirichletAllocation as LDA\n",
    "\n",
    "n_topics = 4\n",
    "lda = LDA(n_components=n_topics, learning_method='batch', random_state=0).fit(tf)   \n",
    "lda"
   ]
  },
  {
   "cell_type": "code",
   "execution_count": 24,
   "metadata": {},
   "outputs": [
    {
     "name": "stdout",
     "output_type": "stream",
     "text": [
      "(4, 4)\n"
     ]
    },
    {
     "data": {
      "text/plain": [
       "array([[ 1.98782166e+00, -5.16399719e-01, -5.30939166e-01,\n",
       "        -1.22474487e+00],\n",
       "       [ 9.16967234e-01,  2.00056236e+00, -3.96132983e-01,\n",
       "        -3.11042654e-16],\n",
       "       [ 1.98782166e+00, -5.16399719e-01, -5.30939166e-01,\n",
       "         1.22474487e+00],\n",
       "       [ 1.48828725e+00,  1.46860732e-01,  1.66235766e+00,\n",
       "        -2.54430885e-15]])"
      ]
     },
     "execution_count": 24,
     "metadata": {},
     "output_type": "execute_result"
    }
   ],
   "source": [
    "# Melihat Topik-topiknya\n",
    "vsm_topics = lsa.transform(tf)\n",
    "print(vsm_topics.shape)\n",
    "vsm_topics[:10]\n",
    "# Ukuran kolom = #Topics ==> Dimension Reduction"
   ]
  },
  {
   "cell_type": "code",
   "execution_count": 25,
   "metadata": {},
   "outputs": [
    {
     "data": {
      "application/vnd.jupyter.widget-view+json": {
       "model_id": "f73c18abed324cf4831266feafbf33c8",
       "version_major": 2,
       "version_minor": 0
      },
      "text/plain": [
       "A Jupyter Widget"
      ]
     },
     "metadata": {},
     "output_type": "display_data"
    },
    {
     "name": "stdout",
     "output_type": "stream",
     "text": [
      "\n"
     ]
    },
    {
     "data": {
      "text/plain": [
       "[1, 2, 1, 3]"
      ]
     },
     "execution_count": 25,
     "metadata": {},
     "output_type": "execute_result"
    }
   ],
   "source": [
    "# Seandainya diasumsikan 1 dokumen hanya 1 topic dengan nilai skor topic terbesar\n",
    "from tqdm import tqdm_notebook as tqdm\n",
    "doc_topic =  [a.argmax()+1 for a in tqdm(vsm_topics)] # topic of docs\n",
    "doc_topic[:10]\n",
    "# kemudian kita lihat topik penyebarannya"
   ]
  },
  {
   "cell_type": "code",
   "execution_count": 26,
   "metadata": {},
   "outputs": [
    {
     "data": {
      "image/png": "[encoded data removed]",
      "text/plain": [
       "<matplotlib.figure.Figure at 0x24d7b6ae5f8>"
      ]
     },
     "metadata": {},
     "output_type": "display_data"
    }
   ],
   "source": [
    "import warnings; warnings.simplefilter('ignore')\n",
    "import seaborn as sns\n",
    "import matplotlib.pyplot as plt\n",
    "# mari kita plot\n",
    "sns.countplot(doc_topic)\n",
    "plt.show()"
   ]
  },
  {
   "cell_type": "code",
   "execution_count": 27,
   "metadata": {},
   "outputs": [
    {
     "name": "stdout",
     "output_type": "stream",
     "text": [
      "Printing top 4 Topics, with top 7 Words:\n",
      "Topic #1:\n",
      "learning sistem bas motivasi model komunita sourc\n",
      "Topic #2:\n",
      "strategi situs kelola ajar learning multimedia kembang\n",
      "Topic #3:\n",
      "grati multimedia kembang sistem learning ajar strategi\n",
      "Topic #4:\n",
      "sourc pilih open bas ajar sistem learning\n"
     ]
    }
   ],
   "source": [
    "import pickle, taudata as tau\n",
    "# Mari kita coba maknai masing-masing topic ini\n",
    "Top_Words=7\n",
    "print('Printing top {0} Topics, with top {1} Words:'.format(n_topics, Top_Words))\n",
    "tau.print_Topics(lsa, tf_terms, n_topics, Top_Words)"
   ]
  },
  {
   "cell_type": "code",
   "execution_count": 28,
   "metadata": {},
   "outputs": [
    {
     "data": {
      "text/html": [
       "\n",
       "<link rel=\"stylesheet\" type=\"text/css\" href=\"https://cdn.rawgit.com/bmabey/pyLDAvis/files/ldavis.v1.0.0.css\">\n",
       "\n",
       "\n",
       "<div id=\"ldavis_el219625318031962962986640866\"></div>\n",
       "<script type=\"text/javascript\">\n",
       "\n",
       "var ldavis_el219625318031962962986640866_data = {\"mdsDat\": {\"Freq\": [41.68993852848883, 27.227332203534132, 27.227328107654262, 3.855401160322771], \"cluster\": [1, 1, 1, 1], \"topics\": [1, 2, 3, 4], \"x\": [0.09692042140643635, -0.054711517901227344, -0.05471123121087419, 0.01250232770566518], \"y\": [1.6928913549110514e-07, 0.05454249207115184, -0.054542512093008026, -1.4926727931920073e-07]}, \"tinfo\": {\"Category\": [\"Default\", \"Default\", \"Default\", \"Default\", \"Default\", \"Default\", \"Default\", \"Default\", \"Default\", \"Default\", \"Default\", \"Default\", \"Default\", \"Default\", \"Default\", \"Default\", \"Topic1\", \"Topic1\", \"Topic1\", \"Topic1\", \"Topic1\", \"Topic1\", \"Topic1\", \"Topic1\", \"Topic1\", \"Topic1\", \"Topic1\", \"Topic1\", \"Topic1\", \"Topic1\", \"Topic1\", \"Topic1\", \"Topic2\", \"Topic2\", \"Topic2\", \"Topic2\", \"Topic2\", \"Topic2\", \"Topic2\", \"Topic2\", \"Topic2\", \"Topic2\", \"Topic2\", \"Topic2\", \"Topic2\", \"Topic2\", \"Topic2\", \"Topic2\", \"Topic3\", \"Topic3\", \"Topic3\", \"Topic3\", \"Topic3\", \"Topic3\", \"Topic3\", \"Topic3\", \"Topic3\", \"Topic3\", \"Topic3\", \"Topic3\", \"Topic3\", \"Topic3\", \"Topic3\", \"Topic3\", \"Topic4\", \"Topic4\", \"Topic4\", \"Topic4\", \"Topic4\", \"Topic4\", \"Topic4\", \"Topic4\", \"Topic4\", \"Topic4\", \"Topic4\", \"Topic4\", \"Topic4\", \"Topic4\", \"Topic4\", \"Topic4\"], \"Freq\": [1.0, 1.0, 1.0, 1.0, 1.0, 1.0, 1.0, 1.0, 1.0, 1.0, 1.0, 1.0, 1.0, 1.0, 2.0, 3.0, 0.8191532607586126, 0.8191532607586126, 0.8191532607586126, 0.8191532607586126, 0.8191430709837291, 0.8191430709837291, 0.8191430709837291, 1.4750320044977592, 0.8153507809923685, 0.16390536246154616, 0.16390536246154616, 0.16390536246154616, 0.16390536351189117, 0.16390536351189117, 0.16390536351189117, 0.16392925687146487, 0.7484314908645227, 0.7484314908645227, 0.7484314908645227, 0.7484695547199757, 0.750277727499741, 0.7483864537633238, 0.14974504743165534, 0.14974504743165534, 0.14974504743165534, 0.14976682202251637, 0.14976682202251637, 0.14976682202251637, 0.14976231695959646, 0.14976231695959646, 0.14976231695959646, 0.14976231695959646, 0.7484353606514892, 0.7484353606514892, 0.7484353606514892, 0.7484625373692917, 0.7502712895023695, 0.7483797180794044, 0.1497457407383615, 0.1497457407383615, 0.1497457407383615, 0.1497676272628031, 0.1497676272628031, 0.1497676272628031, 0.14976311319372793, 0.14976311319372793, 0.14976311319372793, 0.14976311319372793, 0.052992559987868317, 0.052992559987868317, 0.052992559987868317, 0.052992561068388074, 0.052992561068388074, 0.052992561068388074, 0.05301225807717597, 0.05301225807717597, 0.05301225807717597, 0.05301215559440211, 0.05301215559440211, 0.05301215559440211, 0.05301215559440211, 0.0530196025175298, 0.05306636260093977, 0.05306153037463436], \"Term\": [\"bas\", \"komunita\", \"model\", \"motivasi\", \"open\", \"pilih\", \"sourc\", \"ajar\", \"kelola\", \"situs\", \"strategi\", \"grati\", \"kembang\", \"multimedia\", \"sistem\", \"learning\", \"strategi\", \"situs\", \"kelola\", \"ajar\", \"multimedia\", \"kembang\", \"grati\", \"learning\", \"sistem\", \"sourc\", \"pilih\", \"open\", \"motivasi\", \"model\", \"komunita\", \"bas\", \"sourc\", \"pilih\", \"open\", \"bas\", \"sistem\", \"learning\", \"motivasi\", \"model\", \"komunita\", \"multimedia\", \"kembang\", \"grati\", \"strategi\", \"situs\", \"kelola\", \"ajar\", \"motivasi\", \"model\", \"komunita\", \"bas\", \"sistem\", \"learning\", \"sourc\", \"pilih\", \"open\", \"multimedia\", \"kembang\", \"grati\", \"strategi\", \"situs\", \"kelola\", \"ajar\", \"sourc\", \"pilih\", \"open\", \"motivasi\", \"model\", \"komunita\", \"multimedia\", \"kembang\", \"grati\", \"strategi\", \"situs\", \"kelola\", \"ajar\", \"bas\", \"sistem\", \"learning\"], \"Total\": [1.0, 1.0, 1.0, 1.0, 1.0, 1.0, 1.0, 1.0, 1.0, 1.0, 1.0, 1.0, 1.0, 1.0, 2.0, 3.0, 1.1716908465063391, 1.1716908465063391, 1.1716908465063391, 1.1716908465063391, 1.1716897783462243, 1.1716897783462243, 1.1716897783462243, 3.0248597067151217, 2.368966160595419, 1.1150751540522985, 1.1150751540522985, 1.1150751540522985, 1.1150783326634237, 1.1150783326634237, 1.1150783326634237, 1.713880951478262, 1.1150751540522985, 1.1150751540522985, 1.1150751540522985, 1.713880951478262, 2.368966160595419, 3.0248597067151217, 1.1150783326634237, 1.1150783326634237, 1.1150783326634237, 1.1716897783462243, 1.1716897783462243, 1.1716897783462243, 1.1716908465063391, 1.1716908465063391, 1.1716908465063391, 1.1716908465063391, 1.1150783326634237, 1.1150783326634237, 1.1150783326634237, 1.713880951478262, 2.368966160595419, 3.0248597067151217, 1.1150751540522985, 1.1150751540522985, 1.1150751540522985, 1.1716897783462243, 1.1716897783462243, 1.1716897783462243, 1.1716908465063391, 1.1716908465063391, 1.1716908465063391, 1.1716908465063391, 1.1150751540522985, 1.1150751540522985, 1.1150751540522985, 1.1150783326634237, 1.1150783326634237, 1.1150783326634237, 1.1716897783462243, 1.1716897783462243, 1.1716897783462243, 1.1716908465063391, 1.1716908465063391, 1.1716908465063391, 1.1716908465063391, 1.713880951478262, 2.368966160595419, 3.0248597067151217], \"loglift\": [16.0, 15.0, 14.0, 13.0, 12.0, 11.0, 10.0, 9.0, 8.0, 7.0, 6.0, 5.0, 4.0, 3.0, 2.0, 1.0, 0.517, 0.517, 0.517, 0.517, 0.517, 0.517, 0.517, 0.1567, -0.1917, -1.0425, -1.0425, -1.0425, -1.0425, -1.0425, -1.0425, -1.4722, 0.9023, 0.9023, 0.9023, 0.4725, 0.1512, -0.0958, -0.7068, -0.7068, -0.7068, -0.7562, -0.7562, -0.7562, -0.7562, -0.7562, -0.7562, -0.7562, 0.9023, 0.9023, 0.9023, 0.4725, 0.1512, -0.0958, -0.7068, -0.7068, -0.7068, -0.7562, -0.7562, -0.7562, -0.7562, -0.7562, -0.7562, -0.7562, 0.2092, 0.2092, 0.2092, 0.2092, 0.2092, 0.2092, 0.16, 0.16, 0.16, 0.16, 0.16, 0.16, 0.16, -0.2202, -0.543, -0.7875], \"logprob\": [16.0, 15.0, 14.0, 13.0, 12.0, 11.0, 10.0, 9.0, 8.0, 7.0, 6.0, 5.0, 4.0, 3.0, 2.0, 1.0, -2.4156, -2.4156, -2.4156, -2.4156, -2.4156, -2.4156, -2.4156, -1.8275, -2.4203, -4.0246, -4.0246, -4.0246, -4.0246, -4.0246, -4.0246, -4.0245, -2.0799, -2.0799, -2.0799, -2.0798, -2.0774, -2.0799, -3.6889, -3.6889, -3.6889, -3.6888, -3.6888, -3.6888, -3.6888, -3.6888, -3.6888, -3.6888, -2.0799, -2.0799, -2.0799, -2.0798, -2.0774, -2.0799, -3.6889, -3.6889, -3.6889, -3.6888, -3.6888, -3.6888, -3.6888, -3.6888, -3.6888, -3.6888, -2.773, -2.773, -2.773, -2.773, -2.773, -2.773, -2.7726, -2.7726, -2.7726, -2.7726, -2.7726, -2.7726, -2.7726, -2.7724, -2.7716, -2.7717]}, \"token.table\": {\"Topic\": [1, 2, 3, 1, 1, 1, 3, 1, 2, 3, 3, 3, 1, 2, 2, 1, 2, 3, 1, 2, 1], \"Freq\": [0.853467450890929, 0.5834710976497386, 0.5834710976497386, 0.8534682289466116, 0.853467450890929, 0.8534682289466116, 0.8967979833411766, 0.33059384465997615, 0.33059384465997615, 0.33059384465997615, 0.8967979833411766, 0.8967979833411766, 0.8534682289466116, 0.8968005397357268, 0.8968005397357268, 0.42212506731149707, 0.42212506731149707, 0.42212506731149707, 0.853467450890929, 0.8968005397357268, 0.853467450890929], \"Term\": [\"ajar\", \"bas\", \"bas\", \"grati\", \"kelola\", \"kembang\", \"komunita\", \"learning\", \"learning\", \"learning\", \"model\", \"motivasi\", \"multimedia\", \"open\", \"pilih\", \"sistem\", \"sistem\", \"sistem\", \"situs\", \"sourc\", \"strategi\"]}, \"R\": 16, \"lambda.step\": 0.01, \"plot.opts\": {\"xlab\": \"PC1\", \"ylab\": \"PC2\"}, \"topic.order\": [4, 1, 3, 2]};\n",
       "\n",
       "function LDAvis_load_lib(url, callback){\n",
       "  var s = document.createElement('script');\n",
       "  s.src = url;\n",
       "  s.async = true;\n",
       "  s.onreadystatechange = s.onload = callback;\n",
       "  s.onerror = function(){console.warn(\"failed to load library \" + url);};\n",
       "  document.getElementsByTagName(\"head\")[0].appendChild(s);\n",
       "}\n",
       "\n",
       "if(typeof(LDAvis) !== \"undefined\"){\n",
       "   // already loaded: just create the visualization\n",
       "   !function(LDAvis){\n",
       "       new LDAvis(\"#\" + \"ldavis_el219625318031962962986640866\", ldavis_el219625318031962962986640866_data);\n",
       "   }(LDAvis);\n",
       "}else if(typeof define === \"function\" && define.amd){\n",
       "   // require.js is available: use it to load d3/LDAvis\n",
       "   require.config({paths: {d3: \"https://cdnjs.cloudflare.com/ajax/libs/d3/3.5.5/d3.min\"}});\n",
       "   require([\"d3\"], function(d3){\n",
       "      window.d3 = d3;\n",
       "      LDAvis_load_lib(\"https://cdn.rawgit.com/bmabey/pyLDAvis/files/ldavis.v1.0.0.js\", function(){\n",
       "        new LDAvis(\"#\" + \"ldavis_el219625318031962962986640866\", ldavis_el219625318031962962986640866_data);\n",
       "      });\n",
       "    });\n",
       "}else{\n",
       "    // require.js not available: dynamically load d3 & LDAvis\n",
       "    LDAvis_load_lib(\"https://cdnjs.cloudflare.com/ajax/libs/d3/3.5.5/d3.min.js\", function(){\n",
       "         LDAvis_load_lib(\"https://cdn.rawgit.com/bmabey/pyLDAvis/files/ldavis.v1.0.0.js\", function(){\n",
       "                 new LDAvis(\"#\" + \"ldavis_el219625318031962962986640866\", ldavis_el219625318031962962986640866_data);\n",
       "            })\n",
       "         });\n",
       "}\n",
       "</script>"
      ],
      "text/plain": [
       "PreparedData(topic_coordinates=            Freq  cluster  topics         x             y\n",
       "topic                                                    \n",
       "3      41.689939        1       1  0.096920  1.692891e-07\n",
       "0      27.227332        1       2 -0.054712  5.454249e-02\n",
       "2      27.227328        1       3 -0.054711 -5.454251e-02\n",
       "1       3.855401        1       4  0.012502 -1.492673e-07, topic_info=     Category      Freq        Term     Total  loglift  logprob\n",
       "term                                                           \n",
       "1     Default  1.000000         bas  1.000000  16.0000  16.0000\n",
       "5     Default  1.000000    komunita  1.000000  15.0000  15.0000\n",
       "7     Default  1.000000       model  1.000000  14.0000  14.0000\n",
       "8     Default  1.000000    motivasi  1.000000  13.0000  13.0000\n",
       "10    Default  1.000000        open  1.000000  12.0000  12.0000\n",
       "11    Default  1.000000       pilih  1.000000  11.0000  11.0000\n",
       "14    Default  1.000000       sourc  1.000000  10.0000  10.0000\n",
       "0     Default  1.000000        ajar  1.000000   9.0000   9.0000\n",
       "3     Default  1.000000      kelola  1.000000   8.0000   8.0000\n",
       "13    Default  1.000000       situs  1.000000   7.0000   7.0000\n",
       "15    Default  1.000000    strategi  1.000000   6.0000   6.0000\n",
       "2     Default  1.000000       grati  1.000000   5.0000   5.0000\n",
       "4     Default  1.000000     kembang  1.000000   4.0000   4.0000\n",
       "9     Default  1.000000  multimedia  1.000000   3.0000   3.0000\n",
       "12    Default  2.000000      sistem  2.000000   2.0000   2.0000\n",
       "6     Default  3.000000    learning  3.000000   1.0000   1.0000\n",
       "15     Topic1  0.819153    strategi  1.171691   0.5170  -2.4156\n",
       "13     Topic1  0.819153       situs  1.171691   0.5170  -2.4156\n",
       "3      Topic1  0.819153      kelola  1.171691   0.5170  -2.4156\n",
       "0      Topic1  0.819153        ajar  1.171691   0.5170  -2.4156\n",
       "9      Topic1  0.819143  multimedia  1.171690   0.5170  -2.4156\n",
       "4      Topic1  0.819143     kembang  1.171690   0.5170  -2.4156\n",
       "2      Topic1  0.819143       grati  1.171690   0.5170  -2.4156\n",
       "6      Topic1  1.475032    learning  3.024860   0.1567  -1.8275\n",
       "12     Topic1  0.815351      sistem  2.368966  -0.1917  -2.4203\n",
       "14     Topic1  0.163905       sourc  1.115075  -1.0425  -4.0246\n",
       "11     Topic1  0.163905       pilih  1.115075  -1.0425  -4.0246\n",
       "10     Topic1  0.163905        open  1.115075  -1.0425  -4.0246\n",
       "8      Topic1  0.163905    motivasi  1.115078  -1.0425  -4.0246\n",
       "7      Topic1  0.163905       model  1.115078  -1.0425  -4.0246\n",
       "...       ...       ...         ...       ...      ...      ...\n",
       "5      Topic3  0.748435    komunita  1.115078   0.9023  -2.0799\n",
       "1      Topic3  0.748463         bas  1.713881   0.4725  -2.0798\n",
       "12     Topic3  0.750271      sistem  2.368966   0.1512  -2.0774\n",
       "6      Topic3  0.748380    learning  3.024860  -0.0958  -2.0799\n",
       "14     Topic3  0.149746       sourc  1.115075  -0.7068  -3.6889\n",
       "11     Topic3  0.149746       pilih  1.115075  -0.7068  -3.6889\n",
       "10     Topic3  0.149746        open  1.115075  -0.7068  -3.6889\n",
       "9      Topic3  0.149768  multimedia  1.171690  -0.7562  -3.6888\n",
       "4      Topic3  0.149768     kembang  1.171690  -0.7562  -3.6888\n",
       "2      Topic3  0.149768       grati  1.171690  -0.7562  -3.6888\n",
       "15     Topic3  0.149763    strategi  1.171691  -0.7562  -3.6888\n",
       "13     Topic3  0.149763       situs  1.171691  -0.7562  -3.6888\n",
       "3      Topic3  0.149763      kelola  1.171691  -0.7562  -3.6888\n",
       "0      Topic3  0.149763        ajar  1.171691  -0.7562  -3.6888\n",
       "14     Topic4  0.052993       sourc  1.115075   0.2092  -2.7730\n",
       "11     Topic4  0.052993       pilih  1.115075   0.2092  -2.7730\n",
       "10     Topic4  0.052993        open  1.115075   0.2092  -2.7730\n",
       "8      Topic4  0.052993    motivasi  1.115078   0.2092  -2.7730\n",
       "7      Topic4  0.052993       model  1.115078   0.2092  -2.7730\n",
       "5      Topic4  0.052993    komunita  1.115078   0.2092  -2.7730\n",
       "9      Topic4  0.053012  multimedia  1.171690   0.1600  -2.7726\n",
       "4      Topic4  0.053012     kembang  1.171690   0.1600  -2.7726\n",
       "2      Topic4  0.053012       grati  1.171690   0.1600  -2.7726\n",
       "15     Topic4  0.053012    strategi  1.171691   0.1600  -2.7726\n",
       "13     Topic4  0.053012       situs  1.171691   0.1600  -2.7726\n",
       "3      Topic4  0.053012      kelola  1.171691   0.1600  -2.7726\n",
       "0      Topic4  0.053012        ajar  1.171691   0.1600  -2.7726\n",
       "1      Topic4  0.053020         bas  1.713881  -0.2202  -2.7724\n",
       "12     Topic4  0.053066      sistem  2.368966  -0.5430  -2.7716\n",
       "6      Topic4  0.053062    learning  3.024860  -0.7875  -2.7717\n",
       "\n",
       "[80 rows x 6 columns], token_table=      Topic      Freq        Term\n",
       "term                             \n",
       "0         1  0.853467        ajar\n",
       "1         2  0.583471         bas\n",
       "1         3  0.583471         bas\n",
       "2         1  0.853468       grati\n",
       "3         1  0.853467      kelola\n",
       "4         1  0.853468     kembang\n",
       "5         3  0.896798    komunita\n",
       "6         1  0.330594    learning\n",
       "6         2  0.330594    learning\n",
       "6         3  0.330594    learning\n",
       "7         3  0.896798       model\n",
       "8         3  0.896798    motivasi\n",
       "9         1  0.853468  multimedia\n",
       "10        2  0.896801        open\n",
       "11        2  0.896801       pilih\n",
       "12        1  0.422125      sistem\n",
       "12        2  0.422125      sistem\n",
       "12        3  0.422125      sistem\n",
       "13        1  0.853467       situs\n",
       "14        2  0.896801       sourc\n",
       "15        1  0.853467    strategi, R=16, lambda_step=0.01, plot_opts={'xlab': 'PC1', 'ylab': 'PC2'}, topic_order=[4, 1, 3, 2])"
      ]
     },
     "execution_count": 28,
     "metadata": {},
     "output_type": "execute_result"
    }
   ],
   "source": [
    "# %matplotlib inline\n",
    "# Mari kita Plot, supaya lebih jelas\n",
    "# Catatan, bergantung dari laptop yang digunakan, image terkadang cukup lama untuk muncul.\n",
    "import pyLDAvis, pyLDAvis.sklearn; pyLDAvis.enable_notebook()\n",
    "\n",
    "pyLDAvis.sklearn.prepare(lda, tf, tf_vectorizer)"
   ]
  },
  {
   "cell_type": "code",
   "execution_count": null,
   "metadata": {
    "collapsed": true
   },
   "outputs": [],
   "source": []
  }
 ],
 "metadata": {
  "kernelspec": {
   "display_name": "Python 3",
   "language": "python",
   "name": "python3"
  },
  "language_info": {
   "codemirror_mode": {
    "name": "ipython",
    "version": 3
   },
   "file_extension": ".py",
   "mimetype": "text/x-python",
   "name": "python",
   "nbconvert_exporter": "python",
   "pygments_lexer": "ipython3",
   "version": "3.6.3"
  }
 },
 "nbformat": 4,
 "nbformat_minor": 2
}
